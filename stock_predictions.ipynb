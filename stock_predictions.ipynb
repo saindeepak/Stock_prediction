{
  "nbformat": 4,
  "nbformat_minor": 0,
  "metadata": {
    "colab": {
      "name": "stock_predictions.ipynb",
      "version": "0.3.2",
      "provenance": [],
      "collapsed_sections": [],
      "include_colab_link": true
    },
    "kernelspec": {
      "name": "python3",
      "display_name": "Python 3"
    }
  },
  "cells": [
    {
      "cell_type": "markdown",
      "metadata": {
        "id": "view-in-github",
        "colab_type": "text"
      },
      "source": [
        "<a href=\"https://colab.research.google.com/github/saindeepak/Stock_prediction/blob/master/stock_predictions.ipynb\" target=\"_parent\"><img src=\"https://colab.research.google.com/assets/colab-badge.svg\" alt=\"Open In Colab\"/></a>"
      ]
    },
    {
      "metadata": {
        "id": "fTKh9stHMNdf",
        "colab_type": "code",
        "colab": {}
      },
      "cell_type": "code",
      "source": [
        "#importing the libraries\n",
        "import numpy as np\n",
        "import pandas as pd\n",
        "import matplotlib.pyplot as plt"
      ],
      "execution_count": 0,
      "outputs": []
    },
    {
      "metadata": {
        "id": "NL1_EIaXR4Vc",
        "colab_type": "code",
        "colab": {}
      },
      "cell_type": "code",
      "source": [
        "#Loading the dataset\n",
        "data = pd.read_csv('https://github.com/saindeepak/Stock_prediction/raw/master/TATAMOTORS_new.csv')\n",
        "data['a'] = np.array(data.index)"
      ],
      "execution_count": 0,
      "outputs": []
    },
    {
      "metadata": {
        "id": "xhsv71_NR6K7",
        "colab_type": "code",
        "outputId": "1baf28f2-7598-49b7-cccc-999a4dca3d31",
        "colab": {
          "base_uri": "https://localhost:8080/",
          "height": 376
        }
      },
      "cell_type": "code",
      "source": [
        "#getting overview of data\n",
        "print('Rows',data.shape[0],'cols',data.shape[1])\n",
        "data.dtypes\n",
        "data.head(10)\n",
        "\n"
      ],
      "execution_count": 27,
      "outputs": [
        {
          "output_type": "stream",
          "text": [
            "Rows 272 cols 8\n"
          ],
          "name": "stdout"
        },
        {
          "output_type": "execute_result",
          "data": {
            "text/html": [
              "<div>\n",
              "<style scoped>\n",
              "    .dataframe tbody tr th:only-of-type {\n",
              "        vertical-align: middle;\n",
              "    }\n",
              "\n",
              "    .dataframe tbody tr th {\n",
              "        vertical-align: top;\n",
              "    }\n",
              "\n",
              "    .dataframe thead th {\n",
              "        text-align: right;\n",
              "    }\n",
              "</style>\n",
              "<table border=\"1\" class=\"dataframe\">\n",
              "  <thead>\n",
              "    <tr style=\"text-align: right;\">\n",
              "      <th></th>\n",
              "      <th>Date</th>\n",
              "      <th>High Price</th>\n",
              "      <th>Low Price</th>\n",
              "      <th>Close Price</th>\n",
              "      <th>Total Traded Quantity</th>\n",
              "      <th>Turnover (in lacs)</th>\n",
              "      <th>No. of Contracts</th>\n",
              "      <th>a</th>\n",
              "    </tr>\n",
              "  </thead>\n",
              "  <tbody>\n",
              "    <tr>\n",
              "      <th>0</th>\n",
              "      <td>2/1/2018</td>\n",
              "      <td>403.80</td>\n",
              "      <td>390.55</td>\n",
              "      <td>393.65</td>\n",
              "      <td>7259426</td>\n",
              "      <td>28909.06969</td>\n",
              "      <td>30199</td>\n",
              "      <td>0</td>\n",
              "    </tr>\n",
              "    <tr>\n",
              "      <th>1</th>\n",
              "      <td>2/2/2018</td>\n",
              "      <td>397.40</td>\n",
              "      <td>381.30</td>\n",
              "      <td>383.75</td>\n",
              "      <td>10070356</td>\n",
              "      <td>39126.36188</td>\n",
              "      <td>36192</td>\n",
              "      <td>1</td>\n",
              "    </tr>\n",
              "    <tr>\n",
              "      <th>2</th>\n",
              "      <td>2/5/2018</td>\n",
              "      <td>398.00</td>\n",
              "      <td>380.00</td>\n",
              "      <td>395.80</td>\n",
              "      <td>9876017</td>\n",
              "      <td>38730.63195</td>\n",
              "      <td>47989</td>\n",
              "      <td>2</td>\n",
              "    </tr>\n",
              "    <tr>\n",
              "      <th>3</th>\n",
              "      <td>2/6/2018</td>\n",
              "      <td>379.85</td>\n",
              "      <td>356.50</td>\n",
              "      <td>375.45</td>\n",
              "      <td>25294860</td>\n",
              "      <td>93934.02167</td>\n",
              "      <td>72682</td>\n",
              "      <td>3</td>\n",
              "    </tr>\n",
              "    <tr>\n",
              "      <th>4</th>\n",
              "      <td>2/7/2018</td>\n",
              "      <td>385.40</td>\n",
              "      <td>375.20</td>\n",
              "      <td>377.80</td>\n",
              "      <td>12706795</td>\n",
              "      <td>48375.13603</td>\n",
              "      <td>37400</td>\n",
              "      <td>4</td>\n",
              "    </tr>\n",
              "    <tr>\n",
              "      <th>5</th>\n",
              "      <td>2/8/2018</td>\n",
              "      <td>380.00</td>\n",
              "      <td>372.20</td>\n",
              "      <td>374.85</td>\n",
              "      <td>12452396</td>\n",
              "      <td>46812.88947</td>\n",
              "      <td>29522</td>\n",
              "      <td>5</td>\n",
              "    </tr>\n",
              "    <tr>\n",
              "      <th>6</th>\n",
              "      <td>2/9/2018</td>\n",
              "      <td>373.20</td>\n",
              "      <td>368.00</td>\n",
              "      <td>368.75</td>\n",
              "      <td>8816777</td>\n",
              "      <td>32630.53462</td>\n",
              "      <td>25511</td>\n",
              "      <td>6</td>\n",
              "    </tr>\n",
              "    <tr>\n",
              "      <th>7</th>\n",
              "      <td>2/12/2018</td>\n",
              "      <td>376.20</td>\n",
              "      <td>370.20</td>\n",
              "      <td>371.80</td>\n",
              "      <td>6002369</td>\n",
              "      <td>22374.11372</td>\n",
              "      <td>29370</td>\n",
              "      <td>7</td>\n",
              "    </tr>\n",
              "    <tr>\n",
              "      <th>8</th>\n",
              "      <td>2/14/2018</td>\n",
              "      <td>382.30</td>\n",
              "      <td>370.60</td>\n",
              "      <td>376.85</td>\n",
              "      <td>9623436</td>\n",
              "      <td>36202.03222</td>\n",
              "      <td>42676</td>\n",
              "      <td>8</td>\n",
              "    </tr>\n",
              "    <tr>\n",
              "      <th>9</th>\n",
              "      <td>2/15/2018</td>\n",
              "      <td>382.20</td>\n",
              "      <td>373.10</td>\n",
              "      <td>375.80</td>\n",
              "      <td>10225880</td>\n",
              "      <td>38761.88479</td>\n",
              "      <td>33388</td>\n",
              "      <td>9</td>\n",
              "    </tr>\n",
              "  </tbody>\n",
              "</table>\n",
              "</div>"
            ],
            "text/plain": [
              "        Date  High Price  Low Price  Close Price  Total Traded Quantity  \\\n",
              "0   2/1/2018      403.80     390.55       393.65                7259426   \n",
              "1   2/2/2018      397.40     381.30       383.75               10070356   \n",
              "2   2/5/2018      398.00     380.00       395.80                9876017   \n",
              "3   2/6/2018      379.85     356.50       375.45               25294860   \n",
              "4   2/7/2018      385.40     375.20       377.80               12706795   \n",
              "5   2/8/2018      380.00     372.20       374.85               12452396   \n",
              "6   2/9/2018      373.20     368.00       368.75                8816777   \n",
              "7  2/12/2018      376.20     370.20       371.80                6002369   \n",
              "8  2/14/2018      382.30     370.60       376.85                9623436   \n",
              "9  2/15/2018      382.20     373.10       375.80               10225880   \n",
              "\n",
              "   Turnover (in lacs)  No. of Contracts  a  \n",
              "0         28909.06969             30199  0  \n",
              "1         39126.36188             36192  1  \n",
              "2         38730.63195             47989  2  \n",
              "3         93934.02167             72682  3  \n",
              "4         48375.13603             37400  4  \n",
              "5         46812.88947             29522  5  \n",
              "6         32630.53462             25511  6  \n",
              "7         22374.11372             29370  7  \n",
              "8         36202.03222             42676  8  \n",
              "9         38761.88479             33388  9  "
            ]
          },
          "metadata": {
            "tags": []
          },
          "execution_count": 27
        }
      ]
    },
    {
      "metadata": {
        "id": "O4kWVrxpR64a",
        "colab_type": "code",
        "outputId": "cf47c794-10fc-44df-d6ba-e9b5db046ce8",
        "colab": {
          "base_uri": "https://localhost:8080/",
          "height": 378
        }
      },
      "cell_type": "code",
      "source": [
        "#plotting the data\n",
        "plt.scatter(data['a'],data['Close Price'])\n",
        "plt.ylabel('Close Price')\n",
        "plt.xlabel('Date')\n"
      ],
      "execution_count": 28,
      "outputs": [
        {
          "output_type": "execute_result",
          "data": {
            "text/plain": [
              "Text(0.5, 0, 'Date')"
            ]
          },
          "metadata": {
            "tags": []
          },
          "execution_count": 28
        },
        {
          "output_type": "display_data",
          "data": {
            "image/png": "[encoded data removed]",
            "text/plain": [
              "<Figure size 576x396 with 1 Axes>"
            ]
          },
          "metadata": {
            "tags": []
          }
        }
      ]
    },
    {
      "metadata": {
        "id": "WykHE3jbR7e_",
        "colab_type": "code",
        "outputId": "b870ee75-5236-463b-f8e7-9fb0fe074003",
        "colab": {
          "base_uri": "https://localhost:8080/",
          "height": 34
        }
      },
      "cell_type": "code",
      "source": [
        "#Computing the pearson correlation coefficient\n",
        "from scipy.stats.stats import pearsonr\n",
        "pearsonr(data['a'],data['Close Price'])"
      ],
      "execution_count": 29,
      "outputs": [
        {
          "output_type": "execute_result",
          "data": {
            "text/plain": [
              "(-0.9620383644583839, 2.689122989027628e-154)"
            ]
          },
          "metadata": {
            "tags": []
          },
          "execution_count": 29
        }
      ]
    },
    {
      "metadata": {
        "id": "7p5qRH1XgB5T",
        "colab_type": "code",
        "colab": {}
      },
      "cell_type": "code",
      "source": [
        "#converting to numeric by coercing \n",
        "data['Close Price'] = pd.to_numeric(data['Close Price'], errors = 'coerce')\n",
        "data['a'] = pd.to_numeric(data['a'],errors = 'coerce')\n",
        "\n",
        "#dropping the null values\n",
        "data.dropna(subset = ['a','Close Price'],inplace = True)\n"
      ],
      "execution_count": 0,
      "outputs": []
    },
    {
      "metadata": {
        "id": "ksiW6XOPfyZI",
        "colab_type": "code",
        "colab": {}
      },
      "cell_type": "code",
      "source": [
        "#splitting the dataset into train and test\n",
        "from sklearn.model_selection import train_test_split\n",
        "train,test = train_test_split(data,test_size = 0.25)"
      ],
      "execution_count": 0,
      "outputs": []
    },
    {
      "metadata": {
        "id": "xRALH4a4hPtC",
        "colab_type": "code",
        "outputId": "f90851a5-dbe2-4a8e-d1e7-0c1296934a39",
        "colab": {
          "base_uri": "https://localhost:8080/",
          "height": 51
        }
      },
      "cell_type": "code",
      "source": [
        "#making a linear model\n",
        "from sklearn.linear_model import LinearRegression\n",
        "regressor = LinearRegression()\n",
        "x_train = np.array(train['a']).reshape(-1,1)\n",
        "y_train = np.array(train['Close Price'])\n",
        "\n",
        "#fitting our model\n",
        "regressor.fit(x_train,y_train)"
      ],
      "execution_count": 32,
      "outputs": [
        {
          "output_type": "execute_result",
          "data": {
            "text/plain": [
              "LinearRegression(copy_X=True, fit_intercept=True, n_jobs=None,\n",
              "         normalize=False)"
            ]
          },
          "metadata": {
            "tags": []
          },
          "execution_count": 32
        }
      ]
    },
    {
      "metadata": {
        "id": "-_ssTQMKS8Mo",
        "colab_type": "code",
        "outputId": "bd1e466b-cd50-4a17-ac45-57d23db45b94",
        "colab": {
          "base_uri": "https://localhost:8080/",
          "height": 34
        }
      },
      "cell_type": "code",
      "source": [
        "#parameters of a line\n",
        "slope = np.asscalar(np.squeeze(regressor.coef_))\n",
        "intercept = regressor.intercept_\n",
        "print(slope,intercept)"
      ],
      "execution_count": 33,
      "outputs": [
        {
          "output_type": "stream",
          "text": [
            "-0.8726161450712532 372.9464139258722\n"
          ],
          "name": "stdout"
        }
      ]
    },
    {
      "metadata": {
        "id": "IozhGNoOVBA7",
        "colab_type": "code",
        "outputId": "98a4588a-7fb5-4b62-b96b-4d993c0874d2",
        "colab": {
          "base_uri": "https://localhost:8080/",
          "height": 378
        }
      },
      "cell_type": "code",
      "source": [
        "#Plotting a line \n",
        "plt.scatter(data['a'],data['Close Price'],color = 'red')\n",
        "plt.plot(x_train, regressor.predict(x_train), color='blue', linewidth=3, label = 'Predicted Price') \n",
        "plt.ylabel('Close Price')\n",
        "plt.xlabel('Date')\n"
      ],
      "execution_count": 34,
      "outputs": [
        {
          "output_type": "execute_result",
          "data": {
            "text/plain": [
              "Text(0.5, 0, 'Date')"
            ]
          },
          "metadata": {
            "tags": []
          },
          "execution_count": 34
        },
        {
          "output_type": "display_data",
          "data": {
            "image/png": "[encoded data removed]",
            "text/plain": [
              "<Figure size 576x396 with 1 Axes>"
            ]
          },
          "metadata": {
            "tags": []
          }
        }
      ]
    },
    {
      "metadata": {
        "id": "D6DN2MZNdmKb",
        "colab_type": "code",
        "outputId": "3e767eeb-e07d-4a16-96a6-e4efaadeaea8",
        "colab": {
          "base_uri": "https://localhost:8080/",
          "height": 34
        }
      },
      "cell_type": "code",
      "source": [
        "#finding the errors\n",
        "from sklearn.metrics import mean_absolute_error,mean_squared_error,r2_score\n",
        "def pred_met(da,x,y):\n",
        "  pred = da.predict(x)\n",
        "  mae =  mean_absolute_error(y,pred)\n",
        "  mse = mean_squared_error(y,pred)\n",
        "  r2 = r2_score(y,pred)\n",
        "  return mae,mse,r2\n",
        "  \n",
        "#for train data\n",
        "tr_mae,tr_mse,tr_r2 = pred_met(regressor,x_train,y_train)\n",
        "print(tr_mae,tr_mse,tr_r2)"
      ],
      "execution_count": 35,
      "outputs": [
        {
          "output_type": "stream",
          "text": [
            "15.634116387229128 358.8467621700804 0.9273846457948219\n"
          ],
          "name": "stdout"
        }
      ]
    },
    {
      "metadata": {
        "id": "uxo-AVG2h7T8",
        "colab_type": "code",
        "outputId": "b1af4a8a-5f3e-4a25-d4e1-1315e7b6190a",
        "colab": {
          "base_uri": "https://localhost:8080/",
          "height": 187
        }
      },
      "cell_type": "code",
      "source": [
        "#linear model for test data\n",
        "x_test = np.array(test['a']).reshape(-1,1)\n",
        "y_test = np.array(test['Close Price'])\n",
        "\n",
        "#predicting our model\n",
        "y_pred = regressor.predict(x_test)\n",
        "\n",
        "#Comparing the test and predicted values \n",
        "for i in range(10):\n",
        "  print('y_test:',y_test[i],'y_pred:',y_pred[i])\n"
      ],
      "execution_count": 36,
      "outputs": [
        {
          "output_type": "stream",
          "text": [
            "y_test: 225.25 y_pred: 232.45521456940045\n",
            "y_test: 336.05 y_pred: 321.46206136666825\n",
            "y_test: 393.65 y_pred: 372.9464139258722\n",
            "y_test: 180.85 y_pred: 164.3911552538427\n",
            "y_test: 258.75 y_pred: 270.8503249525356\n",
            "y_test: 309.45 y_pred: 308.37281919059944\n",
            "y_test: 331.15 y_pred: 341.5322327033071\n",
            "y_test: 252.1 y_pred: 275.21340567789184\n",
            "y_test: 255.5 y_pred: 251.652769760968\n",
            "y_test: 266.6 y_pred: 246.4170728905405\n"
          ],
          "name": "stdout"
        }
      ]
    },
    {
      "metadata": {
        "id": "3KnfCXdzjls3",
        "colab_type": "code",
        "outputId": "d48f5485-15bd-424a-aac6-bb59d2061edb",
        "colab": {
          "base_uri": "https://localhost:8080/",
          "height": 34
        }
      },
      "cell_type": "code",
      "source": [
        "#Finding errors for test data\n",
        "ts_mae,ts_mse,ts_r2 = pred_met(regressor,x_test,y_test)\n",
        "print(ts_mae,ts_mse,ts_r2)"
      ],
      "execution_count": 37,
      "outputs": [
        {
          "output_type": "stream",
          "text": [
            "16.136022687346724 439.61863322101726 0.92038167161022\n"
          ],
          "name": "stdout"
        }
      ]
    },
    {
      "metadata": {
        "id": "s93qEwPJknQM",
        "colab_type": "code",
        "outputId": "ade7b011-07d8-411c-e635-f617167db4d8",
        "colab": {
          "base_uri": "https://localhost:8080/",
          "height": 119
        }
      },
      "cell_type": "code",
      "source": [
        "# Multiple linear model\n",
        "features = ['a','High Price','Low Price','Total Traded Quantity','Turnover (in lacs)','No. of Contracts']\n",
        "for col in features:\n",
        "  data[col] = pd.to_numeric(data[col],errors = 'coerce')\n",
        "  \n",
        "data.dropna(subset = ['a','Close Price'],inplace = True)\n",
        "for col in features:\n",
        "  print(col,pearsonr(data[col],data['a']))"
      ],
      "execution_count": 38,
      "outputs": [
        {
          "output_type": "stream",
          "text": [
            "a (1.0, 0.0)\n",
            "High Price (-0.9625563972441867, 4.3578565577586054e-155)\n",
            "Low Price (-0.9625630773311913, 4.256070262945317e-155)\n",
            "Total Traded Quantity (0.24315208226401488, 5.063290353001089e-05)\n",
            "Turnover (in lacs) (-0.09145220890562834, 0.13245865889676384)\n",
            "No. of Contracts (0.0893046373074747, 0.14183183231975807)\n"
          ],
          "name": "stdout"
        }
      ]
    },
    {
      "metadata": {
        "id": "-NxO73KCr1BS",
        "colab_type": "code",
        "colab": {}
      },
      "cell_type": "code",
      "source": [
        "#splitting train and test data as before\n",
        "reg_cols = ['a','Total Traded Quantity','No. of Contracts']\n",
        "multi_x = np.column_stack(tuple(data[col] for col in reg_cols))\n",
        "mul_train_x,mul_test_x,mul_train_y,mul_test_y = train_test_split(multi_x,data['Close Price'],test_size = 0.25)"
      ],
      "execution_count": 0,
      "outputs": []
    },
    {
      "metadata": {
        "id": "Xu76dH99udFh",
        "colab_type": "code",
        "outputId": "538aa575-917f-4eef-8917-9d8e3a198040",
        "colab": {
          "base_uri": "https://localhost:8080/",
          "height": 34
        }
      },
      "cell_type": "code",
      "source": [
        "#making a linear model\n",
        "reg2 = LinearRegression()\n",
        "#fitting our model\n",
        "reg2.fit(mul_train_x,mul_train_y)\n",
        "\n",
        "#parameters of a line\n",
        "mul_intercept = reg2.intercept_\n",
        "print(mul_intercept)\n",
        "\n"
      ],
      "execution_count": 40,
      "outputs": [
        {
          "output_type": "stream",
          "text": [
            "374.7045215873297\n"
          ],
          "name": "stdout"
        }
      ]
    },
    {
      "metadata": {
        "id": "B8zCGfpXvejj",
        "colab_type": "code",
        "outputId": "d01838c9-dc8f-4d93-dad7-b9d26c061502",
        "colab": {
          "base_uri": "https://localhost:8080/",
          "height": 34
        }
      },
      "cell_type": "code",
      "source": [
        "#finding the errors  \n",
        "#for train data\n",
        "mul_tr_mae,mul_tr_mse,mul_tr_r2 = pred_met(reg2,mul_train_x,mul_train_y)\n",
        "print(mul_tr_mae,mul_tr_mse,mul_tr_r2)"
      ],
      "execution_count": 41,
      "outputs": [
        {
          "output_type": "stream",
          "text": [
            "16.07547428398372 398.68327075937214 0.9199478180985676\n"
          ],
          "name": "stdout"
        }
      ]
    },
    {
      "metadata": {
        "id": "eo9pwmIfxM_w",
        "colab_type": "code",
        "outputId": "84f17082-fe08-40e8-fc5b-6fcd81137488",
        "colab": {
          "base_uri": "https://localhost:8080/",
          "height": 34
        }
      },
      "cell_type": "code",
      "source": [
        "#Multi-linear model for test data\n",
        "#predicting our model\n",
        "mul_y_pred = reg2.predict(mul_test_x)\n",
        "\n",
        "#Finding the errors for test data\n",
        "mul_ts_mae,mul_ts_mse,mul_ts_r2 = pred_met(reg2,mul_test_x,mul_test_y)\n",
        "print(mul_ts_mae,mul_ts_mse,mul_ts_r2)"
      ],
      "execution_count": 42,
      "outputs": [
        {
          "output_type": "stream",
          "text": [
            "14.877324310730978 308.0967263813077 0.942645714173087\n"
          ],
          "name": "stdout"
        }
      ]
    }
  ]
}